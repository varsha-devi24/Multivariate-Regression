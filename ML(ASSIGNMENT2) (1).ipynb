{
 "cells": [
  {
   "cell_type": "code",
   "execution_count": 1,
   "metadata": {},
   "outputs": [],
   "source": [
    "#importing the needed packages\n",
    "import pandas as pd\n",
    "import numpy as np\n",
    "from sklearn.decomposition import PCA"
   ]
  },
  {
   "cell_type": "code",
   "execution_count": 2,
   "metadata": {},
   "outputs": [
    {
     "data": {
      "text/html": [
       "<div>\n",
       "<style scoped>\n",
       "    .dataframe tbody tr th:only-of-type {\n",
       "        vertical-align: middle;\n",
       "    }\n",
       "\n",
       "    .dataframe tbody tr th {\n",
       "        vertical-align: top;\n",
       "    }\n",
       "\n",
       "    .dataframe thead th {\n",
       "        text-align: right;\n",
       "    }\n",
       "</style>\n",
       "<table border=\"1\" class=\"dataframe\">\n",
       "  <thead>\n",
       "    <tr style=\"text-align: right;\">\n",
       "      <th></th>\n",
       "      <th>Date</th>\n",
       "      <th>Open</th>\n",
       "      <th>High</th>\n",
       "      <th>Low</th>\n",
       "      <th>Close</th>\n",
       "      <th>Adj Close</th>\n",
       "      <th>Volume</th>\n",
       "    </tr>\n",
       "  </thead>\n",
       "  <tbody>\n",
       "    <tr>\n",
       "      <th>0</th>\n",
       "      <td>1980-12-12</td>\n",
       "      <td>0.128348</td>\n",
       "      <td>0.128906</td>\n",
       "      <td>0.128348</td>\n",
       "      <td>0.128348</td>\n",
       "      <td>0.100600</td>\n",
       "      <td>469033600</td>\n",
       "    </tr>\n",
       "    <tr>\n",
       "      <th>1</th>\n",
       "      <td>1980-12-15</td>\n",
       "      <td>0.122210</td>\n",
       "      <td>0.122210</td>\n",
       "      <td>0.121652</td>\n",
       "      <td>0.121652</td>\n",
       "      <td>0.095352</td>\n",
       "      <td>175884800</td>\n",
       "    </tr>\n",
       "    <tr>\n",
       "      <th>2</th>\n",
       "      <td>1980-12-16</td>\n",
       "      <td>0.113281</td>\n",
       "      <td>0.113281</td>\n",
       "      <td>0.112723</td>\n",
       "      <td>0.112723</td>\n",
       "      <td>0.088353</td>\n",
       "      <td>105728000</td>\n",
       "    </tr>\n",
       "    <tr>\n",
       "      <th>3</th>\n",
       "      <td>1980-12-17</td>\n",
       "      <td>0.115513</td>\n",
       "      <td>0.116071</td>\n",
       "      <td>0.115513</td>\n",
       "      <td>0.115513</td>\n",
       "      <td>0.090540</td>\n",
       "      <td>86441600</td>\n",
       "    </tr>\n",
       "    <tr>\n",
       "      <th>4</th>\n",
       "      <td>1980-12-18</td>\n",
       "      <td>0.118862</td>\n",
       "      <td>0.119420</td>\n",
       "      <td>0.118862</td>\n",
       "      <td>0.118862</td>\n",
       "      <td>0.093165</td>\n",
       "      <td>73449600</td>\n",
       "    </tr>\n",
       "  </tbody>\n",
       "</table>\n",
       "</div>"
      ],
      "text/plain": [
       "         Date      Open      High       Low     Close  Adj Close     Volume\n",
       "0  1980-12-12  0.128348  0.128906  0.128348  0.128348   0.100600  469033600\n",
       "1  1980-12-15  0.122210  0.122210  0.121652  0.121652   0.095352  175884800\n",
       "2  1980-12-16  0.113281  0.113281  0.112723  0.112723   0.088353  105728000\n",
       "3  1980-12-17  0.115513  0.116071  0.115513  0.115513   0.090540   86441600\n",
       "4  1980-12-18  0.118862  0.119420  0.118862  0.118862   0.093165   73449600"
      ]
     },
     "execution_count": 2,
     "metadata": {},
     "output_type": "execute_result"
    }
   ],
   "source": [
    "#loading the dataset\n",
    "data=pd.DataFrame(pd.read_csv(\"AAPL.csv\"))\n",
    "\n",
    "data.head()"
   ]
  },
  {
   "cell_type": "code",
   "execution_count": 3,
   "metadata": {},
   "outputs": [
    {
     "data": {
      "text/plain": [
       "(10272, 7)"
      ]
     },
     "execution_count": 3,
     "metadata": {},
     "output_type": "execute_result"
    }
   ],
   "source": [
    "#dimensions of the dataset\n",
    "data.shape"
   ]
  },
  {
   "cell_type": "code",
   "execution_count": 4,
   "metadata": {},
   "outputs": [
    {
     "data": {
      "text/plain": [
       "Date         0\n",
       "Open         0\n",
       "High         0\n",
       "Low          0\n",
       "Close        0\n",
       "Adj Close    0\n",
       "Volume       0\n",
       "dtype: int64"
      ]
     },
     "execution_count": 4,
     "metadata": {},
     "output_type": "execute_result"
    }
   ],
   "source": [
    "#checking whether there is any null values\n",
    "data.isnull().sum()"
   ]
  },
  {
   "cell_type": "code",
   "execution_count": 5,
   "metadata": {},
   "outputs": [],
   "source": [
    "#droping the data column \n",
    "\n",
    "data.drop(['Date'],axis=1,inplace=True)"
   ]
  },
  {
   "cell_type": "code",
   "execution_count": 6,
   "metadata": {},
   "outputs": [
    {
     "data": {
      "text/plain": [
       "(10272, 6)"
      ]
     },
     "execution_count": 6,
     "metadata": {},
     "output_type": "execute_result"
    }
   ],
   "source": [
    "#dimesions after droping\n",
    "data.shape"
   ]
  },
  {
   "cell_type": "code",
   "execution_count": 7,
   "metadata": {},
   "outputs": [],
   "source": [
    "#x and y \n",
    "Y=data.pop('Volume')\n",
    "\n",
    "X=data"
   ]
  },
  {
   "cell_type": "code",
   "execution_count": 8,
   "metadata": {},
   "outputs": [],
   "source": [
    "#train test split\n",
    "from sklearn.model_selection import train_test_split\n",
    "\n",
    "X_train, X_test, y_train, y_test = train_test_split(X, Y,train_size=0.7, test_size=0.3, random_state=0)"
   ]
  },
  {
   "cell_type": "code",
   "execution_count": 9,
   "metadata": {},
   "outputs": [
    {
     "data": {
      "text/plain": [
       "LinearRegression()"
      ]
     },
     "execution_count": 9,
     "metadata": {},
     "output_type": "execute_result"
    }
   ],
   "source": [
    "#performing normal mr\n",
    "from sklearn.linear_model import LinearRegression\n",
    "model = LinearRegression()\n",
    "model.fit(X_train,y_train)"
   ]
  },
  {
   "cell_type": "code",
   "execution_count": 10,
   "metadata": {},
   "outputs": [
    {
     "name": "stdout",
     "output_type": "stream",
     "text": [
      "PREDICTION:\n"
     ]
    },
    {
     "data": {
      "text/plain": [
       "array([3.41737811e+08, 3.42006359e+08, 1.16146020e+08, ...,\n",
       "       3.38565927e+08, 4.09877597e+08, 3.41059573e+08])"
      ]
     },
     "execution_count": 10,
     "metadata": {},
     "output_type": "execute_result"
    }
   ],
   "source": [
    "#predicting the result\n",
    "print(\"PREDICTION:\")\n",
    "pred = model.predict(X_test)\n",
    "pred"
   ]
  },
  {
   "cell_type": "code",
   "execution_count": 11,
   "metadata": {},
   "outputs": [
    {
     "data": {
      "text/plain": [
       "4709    362443200\n",
       "2443    156116800\n",
       "9880    100566000\n",
       "8755    224917200\n",
       "7940    556995600\n",
       "          ...    \n",
       "8182    443038400\n",
       "2481     99489600\n",
       "1045    492441600\n",
       "8555    187769600\n",
       "3170    353617600\n",
       "Name: Volume, Length: 3082, dtype: int64"
      ]
     },
     "execution_count": 11,
     "metadata": {},
     "output_type": "execute_result"
    }
   ],
   "source": [
    "y_test\n",
    "#y_test.shape--->3082"
   ]
  },
  {
   "cell_type": "code",
   "execution_count": 12,
   "metadata": {},
   "outputs": [],
   "source": [
    "#OBSERVATION 1"
   ]
  },
  {
   "cell_type": "code",
   "execution_count": 13,
   "metadata": {},
   "outputs": [
    {
     "name": "stdout",
     "output_type": "stream",
     "text": [
      "SCORE FOR THE MODEL\n"
     ]
    },
    {
     "data": {
      "text/plain": [
       "0.0728"
      ]
     },
     "execution_count": 13,
     "metadata": {},
     "output_type": "execute_result"
    }
   ],
   "source": [
    "#score\n",
    "print(\"SCORE FOR THE MODEL\")\n",
    "np.round(model.score(X_test,y_test),4)"
   ]
  },
  {
   "cell_type": "code",
   "execution_count": 14,
   "metadata": {},
   "outputs": [
    {
     "name": "stdout",
     "output_type": "stream",
     "text": [
      "RMSE FOR THE MODEL\n"
     ]
    },
    {
     "data": {
      "text/plain": [
       "314882094.0106"
      ]
     },
     "execution_count": 14,
     "metadata": {},
     "output_type": "execute_result"
    }
   ],
   "source": [
    "#error\n",
    "print(\"RMSE FOR THE MODEL\")\n",
    "from sklearn.metrics import mean_squared_error\n",
    "np.round(mean_squared_error(y_test,pred,squared=False),4)"
   ]
  },
  {
   "cell_type": "code",
   "execution_count": 15,
   "metadata": {},
   "outputs": [
    {
     "name": "stdout",
     "output_type": "stream",
     "text": [
      "MSE FOR THE MODEL\n"
     ]
    },
    {
     "data": {
      "text/plain": [
       "9.915073312848011e+16"
      ]
     },
     "execution_count": 15,
     "metadata": {},
     "output_type": "execute_result"
    }
   ],
   "source": [
    "#mse\n",
    "print(\"MSE FOR THE MODEL\")\n",
    "from sklearn.metrics import mean_squared_error\n",
    "np.round(mean_squared_error(y_test,pred),4)"
   ]
  },
  {
   "cell_type": "code",
   "execution_count": 16,
   "metadata": {},
   "outputs": [
    {
     "name": "stdout",
     "output_type": "stream",
     "text": [
      "MAE FOR THE MODEL\n"
     ]
    },
    {
     "data": {
      "text/plain": [
       "215982730.1536"
      ]
     },
     "execution_count": 16,
     "metadata": {},
     "output_type": "execute_result"
    }
   ],
   "source": [
    "#mae\n",
    "print(\"MAE FOR THE MODEL\")\n",
    "from sklearn.metrics import mean_absolute_error\n",
    "np.round(mean_absolute_error(y_test,pred),4)"
   ]
  },
  {
   "cell_type": "code",
   "execution_count": 17,
   "metadata": {},
   "outputs": [
    {
     "name": "stdout",
     "output_type": "stream",
     "text": [
      "INTERCEPT VALUE:\n"
     ]
    },
    {
     "data": {
      "text/plain": [
       "337043378.1082199"
      ]
     },
     "execution_count": 17,
     "metadata": {},
     "output_type": "execute_result"
    }
   ],
   "source": [
    "#intercept\n",
    "print(\"INTERCEPT VALUE:\")\n",
    "model.intercept_"
   ]
  },
  {
   "cell_type": "code",
   "execution_count": 18,
   "metadata": {},
   "outputs": [
    {
     "name": "stdout",
     "output_type": "stream",
     "text": [
      "COEFFICIENT VALUES :\n"
     ]
    },
    {
     "data": {
      "text/plain": [
       "array([ 2.55209195e+06,  1.31838933e+08, -1.31238882e+08,  5.92590740e+07,\n",
       "       -6.85798121e+07])"
      ]
     },
     "execution_count": 18,
     "metadata": {},
     "output_type": "execute_result"
    }
   ],
   "source": [
    "#coefficients \n",
    "print(\"COEFFICIENT VALUES :\")\n",
    "model.coef_"
   ]
  },
  {
   "cell_type": "code",
   "execution_count": 19,
   "metadata": {},
   "outputs": [
    {
     "data": {
      "text/plain": [
       "Ridge(alpha=0.7)"
      ]
     },
     "execution_count": 19,
     "metadata": {},
     "output_type": "execute_result"
    }
   ],
   "source": [
    "#regularization :ridge\n",
    "from sklearn.linear_model import Ridge\n",
    "model1 = Ridge(alpha=0.70)\n",
    "model1.fit(X_train,y_train)"
   ]
  },
  {
   "cell_type": "code",
   "execution_count": 20,
   "metadata": {},
   "outputs": [
    {
     "name": "stdout",
     "output_type": "stream",
     "text": [
      "PREDICTION USING RIDGE REGRESSION WHEN ALPHA=0.70\n"
     ]
    },
    {
     "data": {
      "text/plain": [
       "array([3.41747023e+08, 3.42013575e+08, 1.16222270e+08, ...,\n",
       "       3.38577432e+08, 4.09824793e+08, 3.41067705e+08])"
      ]
     },
     "execution_count": 20,
     "metadata": {},
     "output_type": "execute_result"
    }
   ],
   "source": [
    "#predicting coefficents\n",
    "print(\"PREDICTION USING RIDGE REGRESSION WHEN ALPHA=0.70\")\n",
    "pred1 = model1.predict(X_test)\n",
    "pred1"
   ]
  },
  {
   "cell_type": "code",
   "execution_count": null,
   "metadata": {},
   "outputs": [],
   "source": [
    "#OBSERVATION 2"
   ]
  },
  {
   "cell_type": "code",
   "execution_count": 21,
   "metadata": {},
   "outputs": [
    {
     "name": "stdout",
     "output_type": "stream",
     "text": [
      "SCORE USING RIDGE REGRESSION WHEN ALPHA=0.70\n"
     ]
    },
    {
     "data": {
      "text/plain": [
       "0.0728"
      ]
     },
     "execution_count": 21,
     "metadata": {},
     "output_type": "execute_result"
    }
   ],
   "source": [
    "#score\n",
    "print(\"SCORE USING RIDGE REGRESSION WHEN ALPHA=0.70\")\n",
    "np.round(model1.score(X_test,y_test),4)"
   ]
  },
  {
   "cell_type": "code",
   "execution_count": 22,
   "metadata": {},
   "outputs": [
    {
     "name": "stdout",
     "output_type": "stream",
     "text": [
      "RMSE USING RIDGE REGRESSION WHEN ALPHA=0.70\n"
     ]
    },
    {
     "data": {
      "text/plain": [
       "314883364.7323"
      ]
     },
     "execution_count": 22,
     "metadata": {},
     "output_type": "execute_result"
    }
   ],
   "source": [
    "#error\n",
    "print(\"RMSE USING RIDGE REGRESSION WHEN ALPHA=0.70\")\n",
    "np.round(mean_squared_error(y_test,pred1,squared = False),4)"
   ]
  },
  {
   "cell_type": "code",
   "execution_count": 23,
   "metadata": {},
   "outputs": [
    {
     "name": "stdout",
     "output_type": "stream",
     "text": [
      "MSE USING RIDGE REGRESSION WHEN ALPHA=0.70\n"
     ]
    },
    {
     "data": {
      "text/plain": [
       "9.915153338515203e+16"
      ]
     },
     "execution_count": 23,
     "metadata": {},
     "output_type": "execute_result"
    }
   ],
   "source": [
    "#mse\n",
    "print(\"MSE USING RIDGE REGRESSION WHEN ALPHA=0.70\")\n",
    "np.round(mean_squared_error(y_test,pred1),4)"
   ]
  },
  {
   "cell_type": "code",
   "execution_count": 24,
   "metadata": {},
   "outputs": [
    {
     "name": "stdout",
     "output_type": "stream",
     "text": [
      "MAE USING RIDGE REGRESSION WHEN ALPHA=0.70\n"
     ]
    },
    {
     "data": {
      "text/plain": [
       "215984406.4279"
      ]
     },
     "execution_count": 24,
     "metadata": {},
     "output_type": "execute_result"
    }
   ],
   "source": [
    "#mae\n",
    "print(\"MAE USING RIDGE REGRESSION WHEN ALPHA=0.70\")\n",
    "np.round(mean_absolute_error(y_test,pred1),4)"
   ]
  },
  {
   "cell_type": "code",
   "execution_count": 25,
   "metadata": {},
   "outputs": [],
   "source": [
    "model2 = Ridge()"
   ]
  },
  {
   "cell_type": "code",
   "execution_count": 26,
   "metadata": {},
   "outputs": [],
   "source": [
    "#negative mae\n",
    "from sklearn.model_selection import GridSearchCV\n",
    "from numpy import arange\n",
    "grid = dict()\n",
    "grid['alpha'] = arange(0, 1, 0.01)\n",
    "# define search\n",
    "search = GridSearchCV(model2, grid, scoring='neg_mean_absolute_error', n_jobs=-1)\n",
    "results = search.fit(X_train, y_train)"
   ]
  },
  {
   "cell_type": "code",
   "execution_count": 27,
   "metadata": {},
   "outputs": [
    {
     "data": {
      "text/plain": [
       "GridSearchCV(estimator=Ridge(), n_jobs=-1,\n",
       "             param_grid={'alpha': array([0.  , 0.01, 0.02, 0.03, 0.04, 0.05, 0.06, 0.07, 0.08, 0.09, 0.1 ,\n",
       "       0.11, 0.12, 0.13, 0.14, 0.15, 0.16, 0.17, 0.18, 0.19, 0.2 , 0.21,\n",
       "       0.22, 0.23, 0.24, 0.25, 0.26, 0.27, 0.28, 0.29, 0.3 , 0.31, 0.32,\n",
       "       0.33, 0.34, 0.35, 0.36, 0.37, 0.38, 0.39, 0.4 , 0.41, 0.42, 0.43,\n",
       "       0.44, 0.45, 0.46, 0.47, 0.48, 0.49, 0.5 , 0.51, 0.52, 0.53, 0.54,\n",
       "       0.55, 0.56, 0.57, 0.58, 0.59, 0.6 , 0.61, 0.62, 0.63, 0.64, 0.65,\n",
       "       0.66, 0.67, 0.68, 0.69, 0.7 , 0.71, 0.72, 0.73, 0.74, 0.75, 0.76,\n",
       "       0.77, 0.78, 0.79, 0.8 , 0.81, 0.82, 0.83, 0.84, 0.85, 0.86, 0.87,\n",
       "       0.88, 0.89, 0.9 , 0.91, 0.92, 0.93, 0.94, 0.95, 0.96, 0.97, 0.98,\n",
       "       0.99])},\n",
       "             scoring='neg_mean_absolute_error')"
      ]
     },
     "execution_count": 27,
     "metadata": {},
     "output_type": "execute_result"
    }
   ],
   "source": [
    "results"
   ]
  },
  {
   "cell_type": "code",
   "execution_count": 28,
   "metadata": {},
   "outputs": [
    {
     "name": "stdout",
     "output_type": "stream",
     "text": [
      "RESULTS OF RIDGE REGRESSION FOR BEST FIT ALPHA\n",
      "MAE: -219163389.293\n",
      "Config: {'alpha': 0.99}\n"
     ]
    }
   ],
   "source": [
    "print(\"RESULTS OF RIDGE REGRESSION FOR BEST FIT ALPHA\")\n",
    "print('MAE: %.3f' % results.best_score_)\n",
    "print('Config: %s' % results.best_params_)"
   ]
  },
  {
   "cell_type": "code",
   "execution_count": 29,
   "metadata": {},
   "outputs": [],
   "source": [
    "pred3 = search.predict(X_test)"
   ]
  },
  {
   "cell_type": "code",
   "execution_count": 30,
   "metadata": {},
   "outputs": [
    {
     "name": "stdout",
     "output_type": "stream",
     "text": [
      "PREDICTION USING RIDGE REGRESSION FOR BEST FIT ALPHA\n"
     ]
    },
    {
     "data": {
      "text/plain": [
       "314883895.3101"
      ]
     },
     "execution_count": 30,
     "metadata": {},
     "output_type": "execute_result"
    }
   ],
   "source": [
    "#error\n",
    "print(\"PREDICTION USING RIDGE REGRESSION FOR BEST FIT ALPHA\")\n",
    "np.round(mean_squared_error(y_test,pred3,squared = False),4)"
   ]
  },
  {
   "cell_type": "code",
   "execution_count": 31,
   "metadata": {},
   "outputs": [
    {
     "name": "stdout",
     "output_type": "stream",
     "text": [
      "SCORE USING RIDGE REGRESSION FOR BEST FIT ALPHA\n"
     ]
    },
    {
     "data": {
      "text/plain": [
       "-215985097.8629"
      ]
     },
     "execution_count": 31,
     "metadata": {},
     "output_type": "execute_result"
    }
   ],
   "source": [
    "#score\n",
    "print(\"SCORE USING RIDGE REGRESSION FOR BEST FIT ALPHA\")\n",
    "np.round(search.score(X_test,y_test),4)"
   ]
  },
  {
   "cell_type": "code",
   "execution_count": 32,
   "metadata": {},
   "outputs": [
    {
     "name": "stdout",
     "output_type": "stream",
     "text": [
      "RMSE USING RIDGE REGRESSION FOR BEST FIT ALPHA\n"
     ]
    },
    {
     "data": {
      "text/plain": [
       "314883895.3101"
      ]
     },
     "execution_count": 32,
     "metadata": {},
     "output_type": "execute_result"
    }
   ],
   "source": [
    "#error\n",
    "print(\"RMSE USING RIDGE REGRESSION FOR BEST FIT ALPHA\")\n",
    "np.round(mean_squared_error(y_test,pred3,squared = False),4)"
   ]
  },
  {
   "cell_type": "code",
   "execution_count": 33,
   "metadata": {},
   "outputs": [
    {
     "name": "stdout",
     "output_type": "stream",
     "text": [
      "MSE USING RIDGE REGRESSION FOR BEST FIT ALPHA\n"
     ]
    },
    {
     "data": {
      "text/plain": [
       "9.915186752564126e+16"
      ]
     },
     "execution_count": 33,
     "metadata": {},
     "output_type": "execute_result"
    }
   ],
   "source": [
    "#mse\n",
    "print(\"MSE USING RIDGE REGRESSION FOR BEST FIT ALPHA\")\n",
    "np.round(mean_squared_error(y_test,pred3),4)"
   ]
  },
  {
   "cell_type": "code",
   "execution_count": 34,
   "metadata": {},
   "outputs": [
    {
     "name": "stdout",
     "output_type": "stream",
     "text": [
      "MAE USING RIDGE REGRESSION FOR BEST FIT ALPHA\n"
     ]
    },
    {
     "data": {
      "text/plain": [
       "215985097.8629"
      ]
     },
     "execution_count": 34,
     "metadata": {},
     "output_type": "execute_result"
    }
   ],
   "source": [
    "#mae\n",
    "print(\"MAE USING RIDGE REGRESSION FOR BEST FIT ALPHA\")\n",
    "np.round(mean_absolute_error(y_test,pred3),4)"
   ]
  },
  {
   "cell_type": "code",
   "execution_count": 35,
   "metadata": {},
   "outputs": [
    {
     "data": {
      "text/html": [
       "<div>\n",
       "<style scoped>\n",
       "    .dataframe tbody tr th:only-of-type {\n",
       "        vertical-align: middle;\n",
       "    }\n",
       "\n",
       "    .dataframe tbody tr th {\n",
       "        vertical-align: top;\n",
       "    }\n",
       "\n",
       "    .dataframe thead th {\n",
       "        text-align: right;\n",
       "    }\n",
       "</style>\n",
       "<table border=\"1\" class=\"dataframe\">\n",
       "  <thead>\n",
       "    <tr style=\"text-align: right;\">\n",
       "      <th></th>\n",
       "      <th>RESULT1</th>\n",
       "      <th>RESULT2</th>\n",
       "      <th>RESULT3</th>\n",
       "      <th>RESULT4</th>\n",
       "      <th>RESULT5</th>\n",
       "    </tr>\n",
       "  </thead>\n",
       "  <tbody>\n",
       "    <tr>\n",
       "      <th>0</th>\n",
       "      <td>-26.315245</td>\n",
       "      <td>0.369068</td>\n",
       "      <td>0.036820</td>\n",
       "      <td>-0.029753</td>\n",
       "      <td>0.003123</td>\n",
       "    </tr>\n",
       "    <tr>\n",
       "      <th>1</th>\n",
       "      <td>-26.329326</td>\n",
       "      <td>0.370116</td>\n",
       "      <td>0.037327</td>\n",
       "      <td>-0.029924</td>\n",
       "      <td>0.002855</td>\n",
       "    </tr>\n",
       "    <tr>\n",
       "      <th>2</th>\n",
       "      <td>-26.348436</td>\n",
       "      <td>0.371740</td>\n",
       "      <td>0.037549</td>\n",
       "      <td>-0.029950</td>\n",
       "      <td>0.002877</td>\n",
       "    </tr>\n",
       "    <tr>\n",
       "      <th>3</th>\n",
       "      <td>-26.342715</td>\n",
       "      <td>0.371402</td>\n",
       "      <td>0.037139</td>\n",
       "      <td>-0.029789</td>\n",
       "      <td>0.003154</td>\n",
       "    </tr>\n",
       "    <tr>\n",
       "      <th>4</th>\n",
       "      <td>-26.335547</td>\n",
       "      <td>0.370793</td>\n",
       "      <td>0.037055</td>\n",
       "      <td>-0.029780</td>\n",
       "      <td>0.003146</td>\n",
       "    </tr>\n",
       "  </tbody>\n",
       "</table>\n",
       "</div>"
      ],
      "text/plain": [
       "     RESULT1   RESULT2   RESULT3   RESULT4   RESULT5\n",
       "0 -26.315245  0.369068  0.036820 -0.029753  0.003123\n",
       "1 -26.329326  0.370116  0.037327 -0.029924  0.002855\n",
       "2 -26.348436  0.371740  0.037549 -0.029950  0.002877\n",
       "3 -26.342715  0.371402  0.037139 -0.029789  0.003154\n",
       "4 -26.335547  0.370793  0.037055 -0.029780  0.003146"
      ]
     },
     "execution_count": 35,
     "metadata": {},
     "output_type": "execute_result"
    }
   ],
   "source": [
    "# implementation of Principal Compoenet Analysis (PCA)\n",
    "from sklearn.decomposition import PCA\n",
    "pca = PCA(n_components=5)\n",
    "df = pca.fit_transform(X)\n",
    "data1 = pd.DataFrame(data = df,columns = ['RESULT1','RESULT2','RESULT3','RESULT4','RESULT5'])\n",
    "data1.head()"
   ]
  },
  {
   "cell_type": "code",
   "execution_count": 36,
   "metadata": {},
   "outputs": [
    {
     "data": {
      "text/plain": [
       "(10272, 5)"
      ]
     },
     "execution_count": 36,
     "metadata": {},
     "output_type": "execute_result"
    }
   ],
   "source": [
    "data1.shape"
   ]
  },
  {
   "cell_type": "code",
   "execution_count": 37,
   "metadata": {},
   "outputs": [
    {
     "name": "stdout",
     "output_type": "stream",
     "text": [
      "VARIANCE RATIO USING PCA\n"
     ]
    },
    {
     "data": {
      "text/plain": [
       "array([9.99784867e-01, 1.65821998e-04, 2.63682405e-05, 1.89414078e-05,\n",
       "       4.00101895e-06])"
      ]
     },
     "execution_count": 37,
     "metadata": {},
     "output_type": "execute_result"
    }
   ],
   "source": [
    "print(\"VARIANCE RATIO USING PCA\")\n",
    "pca.explained_variance_ratio_"
   ]
  },
  {
   "cell_type": "code",
   "execution_count": 38,
   "metadata": {},
   "outputs": [
    {
     "name": "stdout",
     "output_type": "stream",
     "text": [
      " PCA COMPONENTS\n"
     ]
    },
    {
     "data": {
      "text/plain": [
       "array([[ 0.44822324,  0.45318366,  0.44327278,  0.44846134,  0.44284554],\n",
       "       [-0.30450887, -0.20395535, -0.24702401, -0.12283294,  0.88857626],\n",
       "       [ 0.61079374,  0.29632947, -0.37422916, -0.62573043,  0.0867975 ],\n",
       "       [-0.27283837,  0.59474421, -0.64340931,  0.38874119, -0.08211762],\n",
       "       [-0.50878335,  0.55811733,  0.434126  , -0.49105621,  0.0065539 ]])"
      ]
     },
     "execution_count": 38,
     "metadata": {},
     "output_type": "execute_result"
    }
   ],
   "source": [
    "print(\" PCA COMPONENTS\")\n",
    "pca.components_"
   ]
  },
  {
   "cell_type": "code",
   "execution_count": 39,
   "metadata": {},
   "outputs": [],
   "source": [
    "model3 = LinearRegression()"
   ]
  },
  {
   "cell_type": "code",
   "execution_count": 40,
   "metadata": {},
   "outputs": [],
   "source": [
    "X_train1,X_test1,y_train1,y_test1 = train_test_split(data1, Y, test_size=0.20, random_state=0)"
   ]
  },
  {
   "cell_type": "code",
   "execution_count": 41,
   "metadata": {},
   "outputs": [
    {
     "data": {
      "text/plain": [
       "LinearRegression()"
      ]
     },
     "execution_count": 41,
     "metadata": {},
     "output_type": "execute_result"
    }
   ],
   "source": [
    "model3.fit(X_train1,y_train1)"
   ]
  },
  {
   "cell_type": "code",
   "execution_count": 42,
   "metadata": {},
   "outputs": [
    {
     "name": "stdout",
     "output_type": "stream",
     "text": [
      "PREDICTION USING PCA\n"
     ]
    },
    {
     "data": {
      "text/plain": [
       "array([3.38306180e+08, 3.38735844e+08, 1.15682635e+08, ...,\n",
       "       3.37443125e+08, 3.39917961e+08, 4.02179191e+08])"
      ]
     },
     "execution_count": 42,
     "metadata": {},
     "output_type": "execute_result"
    }
   ],
   "source": [
    "print(\"PREDICTION USING PCA\")\n",
    "pred4 = model3.predict(X_test1)\n",
    "pred4"
   ]
  },
  {
   "cell_type": "code",
   "execution_count": 43,
   "metadata": {},
   "outputs": [
    {
     "data": {
      "text/plain": [
       "4709     362443200\n",
       "2443     156116800\n",
       "9880     100566000\n",
       "8755     224917200\n",
       "7940     556995600\n",
       "           ...    \n",
       "7542     508348400\n",
       "5607     195098400\n",
       "1594     539840000\n",
       "6032     928625600\n",
       "6935    1888392800\n",
       "Name: Volume, Length: 2055, dtype: int64"
      ]
     },
     "execution_count": 43,
     "metadata": {},
     "output_type": "execute_result"
    }
   ],
   "source": [
    "y_test1"
   ]
  },
  {
   "cell_type": "code",
   "execution_count": null,
   "metadata": {},
   "outputs": [],
   "source": [
    "#OBSERVATION 3"
   ]
  },
  {
   "cell_type": "code",
   "execution_count": 58,
   "metadata": {},
   "outputs": [
    {
     "name": "stdout",
     "output_type": "stream",
     "text": [
      "SCORE USING PCA\n"
     ]
    },
    {
     "data": {
      "text/plain": [
       "-269616798.23646"
      ]
     },
     "execution_count": 58,
     "metadata": {},
     "output_type": "execute_result"
    }
   ],
   "source": [
    "print(\"SCORE USING PCA\")\n",
    "np.round(search.score(X_test1,y_test1),5)"
   ]
  },
  {
   "cell_type": "code",
   "execution_count": 46,
   "metadata": {},
   "outputs": [
    {
     "name": "stdout",
     "output_type": "stream",
     "text": [
      "RMSE USING PCA\n"
     ]
    },
    {
     "data": {
      "text/plain": [
       "323548349.6516"
      ]
     },
     "execution_count": 46,
     "metadata": {},
     "output_type": "execute_result"
    }
   ],
   "source": [
    "print(\"RMSE USING PCA\")\n",
    "np.round(mean_squared_error(y_test1,pred4,squared = False),4)"
   ]
  },
  {
   "cell_type": "code",
   "execution_count": 47,
   "metadata": {},
   "outputs": [
    {
     "name": "stdout",
     "output_type": "stream",
     "text": [
      "MSE USING PCA\n"
     ]
    },
    {
     "data": {
      "text/plain": [
       "9.915186752564126e+16"
      ]
     },
     "execution_count": 47,
     "metadata": {},
     "output_type": "execute_result"
    }
   ],
   "source": [
    "print(\"MSE USING PCA\")\n",
    "np.round(mean_squared_error(y_test,pred3),3)"
   ]
  },
  {
   "cell_type": "code",
   "execution_count": 48,
   "metadata": {},
   "outputs": [
    {
     "name": "stdout",
     "output_type": "stream",
     "text": [
      "MAE USING PCA\n"
     ]
    },
    {
     "data": {
      "text/plain": [
       "215985097.8629"
      ]
     },
     "execution_count": 48,
     "metadata": {},
     "output_type": "execute_result"
    }
   ],
   "source": [
    "print(\"MAE USING PCA\")\n",
    "np.round(mean_absolute_error(y_test,pred3),4)"
   ]
  },
  {
   "cell_type": "code",
   "execution_count": 49,
   "metadata": {},
   "outputs": [],
   "source": [
    "from sklearn.model_selection import GridSearchCV\n",
    "from numpy import arange\n",
    "grid = dict()\n",
    "grid['alpha'] = arange(0, 1, 0.01)\n",
    "# define search\n",
    "search1 = GridSearchCV(model2, grid, scoring='neg_mean_absolute_error', n_jobs=-1)\n",
    "results1 = search1.fit(X, Y)"
   ]
  },
  {
   "cell_type": "code",
   "execution_count": 50,
   "metadata": {},
   "outputs": [
    {
     "name": "stdout",
     "output_type": "stream",
     "text": [
      "RESULTS FOR BEST FIT ALPHA USING PCA\n",
      "MAE: -670979141.100\n",
      "Config: {'alpha': 0.99}\n"
     ]
    }
   ],
   "source": [
    "print(\"RESULTS FOR BEST FIT ALPHA USING PCA\")\n",
    "print('MAE: %.3f' % results1.best_score_)\n",
    "print('Config: %s' % results1.best_params_)"
   ]
  },
  {
   "cell_type": "code",
   "execution_count": 51,
   "metadata": {},
   "outputs": [],
   "source": [
    "pred5 = search1.predict(X_test)"
   ]
  },
  {
   "cell_type": "code",
   "execution_count": 52,
   "metadata": {},
   "outputs": [
    {
     "name": "stdout",
     "output_type": "stream",
     "text": [
      "SCORE FOR BEST FIT ALPHA USING PCA\n"
     ]
    },
    {
     "data": {
      "text/plain": [
       "0.0709"
      ]
     },
     "execution_count": 52,
     "metadata": {},
     "output_type": "execute_result"
    }
   ],
   "source": [
    "print(\"SCORE FOR BEST FIT ALPHA USING PCA\")\n",
    "np.round(model3.score(X_test1,y_test1),4)"
   ]
  },
  {
   "cell_type": "code",
   "execution_count": 53,
   "metadata": {},
   "outputs": [
    {
     "name": "stdout",
     "output_type": "stream",
     "text": [
      "RMSE FOR BEST FIT ALPHA USING PCA\n"
     ]
    },
    {
     "data": {
      "text/plain": [
       "314748141.7113"
      ]
     },
     "execution_count": 53,
     "metadata": {},
     "output_type": "execute_result"
    }
   ],
   "source": [
    "print(\"RMSE FOR BEST FIT ALPHA USING PCA\")\n",
    "np.round(mean_squared_error(y_test,pred5,squared = False),4)"
   ]
  },
  {
   "cell_type": "code",
   "execution_count": 54,
   "metadata": {},
   "outputs": [
    {
     "name": "stdout",
     "output_type": "stream",
     "text": [
      "MSE FOR BEST FIT ALPHA USING PCA\n"
     ]
    },
    {
     "data": {
      "text/plain": [
       "9.906639271070944e+16"
      ]
     },
     "execution_count": 54,
     "metadata": {},
     "output_type": "execute_result"
    }
   ],
   "source": [
    "print(\"MSE FOR BEST FIT ALPHA USING PCA\")\n",
    "np.round(mean_squared_error(y_test,pred5),4)"
   ]
  },
  {
   "cell_type": "code",
   "execution_count": 55,
   "metadata": {},
   "outputs": [
    {
     "name": "stdout",
     "output_type": "stream",
     "text": [
      "MAE FOR BEST FIT ALPHA USING PCA\n"
     ]
    },
    {
     "data": {
      "text/plain": [
       "215088154.0796"
      ]
     },
     "execution_count": 55,
     "metadata": {},
     "output_type": "execute_result"
    }
   ],
   "source": [
    "print(\"MAE FOR BEST FIT ALPHA USING PCA\")\n",
    "np.round(mean_absolute_error(y_test,pred5),4)"
   ]
  },
  {
   "cell_type": "code",
   "execution_count": null,
   "metadata": {},
   "outputs": [],
   "source": [
    "#from this what we can interpret is that result is same\n",
    "#when performing pca,regularization and noraml mr for the choosen dataset"
   ]
  }
 ],
 "metadata": {
  "kernelspec": {
   "display_name": "Python 3",
   "language": "python",
   "name": "python3"
  },
  "language_info": {
   "codemirror_mode": {
    "name": "ipython",
    "version": 3
   },
   "file_extension": ".py",
   "mimetype": "text/x-python",
   "name": "python",
   "nbconvert_exporter": "python",
   "pygments_lexer": "ipython3",
   "version": "3.8.5"
  }
 },
 "nbformat": 4,
 "nbformat_minor": 4
}
